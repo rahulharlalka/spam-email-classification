{
 "cells": [
  {
   "cell_type": "code",
   "execution_count": 94,
   "metadata": {},
   "outputs": [],
   "source": [
    "import tensorflow as tf\n",
    "from tensorflow import keras\n",
    "from tensorflow.keras.preprocessing.text import Tokenizer\n",
    "from tensorflow.keras.preprocessing.sequence import pad_sequences\n",
    "from tensorflow.keras import layers\n",
    "import pydot\n",
    "import graphviz\n",
    "\n",
    "import numpy as np\n",
    "import pandas as pd\n",
    "stopwords = [ \"a\", \"about\", \"above\", \"after\", \"again\", \"against\", \"all\", \"am\", \"an\", \"and\", \"any\", \"are\", \"as\", \"at\", \"be\", \"because\", \"been\", \"before\", \"being\", \"below\", \"between\", \"both\", \"but\", \"by\", \"could\", \"did\", \"do\", \"does\", \"doing\", \"down\", \"during\", \"each\", \"few\", \"for\", \"from\", \"further\", \"had\", \"has\", \"have\", \"having\", \"he\", \"he'd\", \"he'll\", \"he's\", \"her\", \"here\", \"here's\", \"hers\", \"herself\", \"him\", \"himself\", \"his\", \"how\", \"how's\", \"i\", \"i'd\", \"i'll\", \"i'm\", \"i've\", \"if\", \"in\", \"into\", \"is\", \"it\", \"it's\", \"its\", \"itself\", \"let's\", \"me\", \"more\", \"most\", \"my\", \"myself\", \"nor\", \"of\", \"on\", \"once\", \"only\", \"or\", \"other\", \"ought\", \"our\", \"ours\", \"ourselves\", \"out\", \"over\", \"own\", \"same\", \"she\", \"she'd\", \"she'll\", \"she's\", \"should\", \"so\", \"some\", \"such\", \"than\", \"that\", \"that's\", \"the\", \"their\", \"theirs\", \"them\", \"themselves\", \"then\", \"there\", \"there's\", \"these\", \"they\", \"they'd\", \"they'll\", \"they're\", \"they've\", \"this\", \"those\", \"through\", \"to\", \"too\", \"under\", \"until\", \"up\", \"very\", \"was\", \"we\", \"we'd\", \"we'll\", \"we're\", \"we've\", \"were\", \"what\", \"what's\", \"when\", \"when's\", \"where\", \"where's\", \"which\", \"while\", \"who\", \"who's\", \"whom\", \"why\", \"why's\", \"with\", \"would\", \"you\", \"you'd\", \"you'll\", \"you're\", \"you've\", \"your\", \"yours\", \"yourself\", \"yourselves\" ]\n",
    "\n"
   ]
  },
  {
   "cell_type": "code",
   "execution_count": 2,
   "metadata": {},
   "outputs": [
    {
     "data": {
      "text/html": [
       "<div>\n",
       "<style scoped>\n",
       "    .dataframe tbody tr th:only-of-type {\n",
       "        vertical-align: middle;\n",
       "    }\n",
       "\n",
       "    .dataframe tbody tr th {\n",
       "        vertical-align: top;\n",
       "    }\n",
       "\n",
       "    .dataframe thead th {\n",
       "        text-align: right;\n",
       "    }\n",
       "</style>\n",
       "<table border=\"1\" class=\"dataframe\">\n",
       "  <thead>\n",
       "    <tr style=\"text-align: right;\">\n",
       "      <th></th>\n",
       "      <th>Category</th>\n",
       "      <th>Message</th>\n",
       "    </tr>\n",
       "  </thead>\n",
       "  <tbody>\n",
       "    <tr>\n",
       "      <th>0</th>\n",
       "      <td>ham</td>\n",
       "      <td>Go until jurong point, crazy.. Available only ...</td>\n",
       "    </tr>\n",
       "    <tr>\n",
       "      <th>1</th>\n",
       "      <td>ham</td>\n",
       "      <td>Ok lar... Joking wif u oni...</td>\n",
       "    </tr>\n",
       "    <tr>\n",
       "      <th>2</th>\n",
       "      <td>spam</td>\n",
       "      <td>Free entry in 2 a wkly comp to win FA Cup fina...</td>\n",
       "    </tr>\n",
       "    <tr>\n",
       "      <th>3</th>\n",
       "      <td>ham</td>\n",
       "      <td>U dun say so early hor... U c already then say...</td>\n",
       "    </tr>\n",
       "    <tr>\n",
       "      <th>4</th>\n",
       "      <td>ham</td>\n",
       "      <td>Nah I don't think he goes to usf, he lives aro...</td>\n",
       "    </tr>\n",
       "  </tbody>\n",
       "</table>\n",
       "</div>"
      ],
      "text/plain": [
       "  Category                                            Message\n",
       "0      ham  Go until jurong point, crazy.. Available only ...\n",
       "1      ham                      Ok lar... Joking wif u oni...\n",
       "2     spam  Free entry in 2 a wkly comp to win FA Cup fina...\n",
       "3      ham  U dun say so early hor... U c already then say...\n",
       "4      ham  Nah I don't think he goes to usf, he lives aro..."
      ]
     },
     "execution_count": 2,
     "metadata": {},
     "output_type": "execute_result"
    }
   ],
   "source": [
    "dataset=pd.read_csv('dataset.csv')\n",
    "dataset.head()"
   ]
  },
  {
   "cell_type": "code",
   "execution_count": 3,
   "metadata": {},
   "outputs": [],
   "source": [
    "data=np.array(dataset)"
   ]
  },
  {
   "cell_type": "code",
   "execution_count": 4,
   "metadata": {},
   "outputs": [],
   "source": [
    "new_sentences=[]\n",
    "labels=[]\n",
    "\n",
    "for row in data:\n",
    "    labels.append(row[0])\n",
    "    sen=row[1]\n",
    "    for word in stopwords:\n",
    "        token=\" \"+word+\" \"\n",
    "        sen=sen.replace(token,\" \")\n",
    "    new_sentences.append(sen)   "
   ]
  },
  {
   "cell_type": "code",
   "execution_count": 7,
   "metadata": {},
   "outputs": [
    {
     "name": "stdout",
     "output_type": "stream",
     "text": [
      "5572\n",
      "5572\n",
      "ham\n",
      "Go jurong point, crazy.. Available bugis n great world la e buffet... Cine got amore wat...\n"
     ]
    }
   ],
   "source": [
    "print(len(new_sentences))\n",
    "print(len(labels))\n",
    "print(labels[0])\n",
    "print(new_sentences[0])"
   ]
  },
  {
   "cell_type": "code",
   "execution_count": 44,
   "metadata": {},
   "outputs": [],
   "source": [
    "test_size=0.2\n",
    "from sklearn.model_selection import train_test_split as tts\n",
    "train_sentences,test_sentences,train_labels,test_labels=tts(new_sentences,labels,test_size=test_size,random_state=100)\n"
   ]
  },
  {
   "cell_type": "code",
   "execution_count": 45,
   "metadata": {},
   "outputs": [
    {
     "name": "stdout",
     "output_type": "stream",
     "text": [
      "4457\n",
      "600\n"
     ]
    }
   ],
   "source": [
    "print(len(train_labels))\n",
    "print(train_labels.count(\"spam\"))"
   ]
  },
  {
   "cell_type": "code",
   "execution_count": 46,
   "metadata": {},
   "outputs": [],
   "source": [
    "for i,value in enumerate(train_labels):\n",
    "    if value=='spam':\n",
    "        train_labels[i]=1\n",
    "    else:\n",
    "        train_labels[i]=0"
   ]
  },
  {
   "cell_type": "code",
   "execution_count": 47,
   "metadata": {},
   "outputs": [],
   "source": [
    "for i,value in enumerate(test_labels):\n",
    "    if value=='spam':\n",
    "        test_labels[i]=1\n",
    "    else:\n",
    "        test_labels[i]=0"
   ]
  },
  {
   "cell_type": "code",
   "execution_count": 51,
   "metadata": {},
   "outputs": [],
   "source": [
    "tokenizer=Tokenizer()\n",
    "tokenizer.fit_on_texts(train_sentences)\n",
    "word_index=tokenizer.word_index"
   ]
  },
  {
   "cell_type": "code",
   "execution_count": 54,
   "metadata": {},
   "outputs": [],
   "source": [
    "train_sequences=tokenizer.texts_to_sequences(train_sentences)\n",
    "train_padded=pad_sequences(train_sequences,padding='post')"
   ]
  },
  {
   "cell_type": "code",
   "execution_count": 61,
   "metadata": {},
   "outputs": [
    {
     "name": "stdout",
     "output_type": "stream",
     "text": [
      "6\n",
      "110\n",
      "31\n",
      "110\n",
      "17\n",
      "110\n"
     ]
    }
   ],
   "source": [
    "print(len(train_sequences[0]))\n",
    "print(len(train_padded[0]))\n",
    "\n",
    "print(len(train_sequences[23]))\n",
    "print(len(train_padded[23]))\n",
    "\n",
    "print(len(train_sequences[12]))\n",
    "print(len(train_padded[12]))"
   ]
  },
  {
   "cell_type": "code",
   "execution_count": 63,
   "metadata": {},
   "outputs": [],
   "source": [
    "test_sequences=tokenizer.texts_to_sequences(test_sentences)\n",
    "test_padded=pad_sequences(test_sequences,padding='post',maxlen=110)"
   ]
  },
  {
   "cell_type": "code",
   "execution_count": 65,
   "metadata": {},
   "outputs": [
    {
     "name": "stdout",
     "output_type": "stream",
     "text": [
      "1115\n",
      "(1115, 110)\n"
     ]
    }
   ],
   "source": [
    "print(len(test_sequences))\n",
    "print(test_padded.shape)"
   ]
  },
  {
   "cell_type": "code",
   "execution_count": 73,
   "metadata": {},
   "outputs": [
    {
     "data": {
      "text/plain": [
       "(4457, 1)"
      ]
     },
     "execution_count": 73,
     "metadata": {},
     "output_type": "execute_result"
    }
   ],
   "source": [
    "train_labels=np.array(train_labels).reshape(len(train_labels),1)\n",
    "print(train_labels.shape)\n",
    "test_labels=np.array(test_labels).reshape(len(test_labels),1)\n",
    "print(test_labels.shape)"
   ]
  },
  {
   "cell_type": "code",
   "execution_count": 79,
   "metadata": {},
   "outputs": [
    {
     "name": "stdout",
     "output_type": "stream",
     "text": [
      "8005\n"
     ]
    }
   ],
   "source": [
    "vocab_size=len(word_index)\n",
    "print(vocab_size)"
   ]
  },
  {
   "cell_type": "code",
   "execution_count": 82,
   "metadata": {},
   "outputs": [],
   "source": [
    "model=tf.keras.Sequential()\n",
    "model.add(layers.Embedding(vocab_size,32,input_length=110))\n",
    "model.add(layers.GlobalAveragePooling1D())\n",
    "model.add(layers.Dense(24,activation='relu'))\n",
    "model.add(layers.Dense(2,activation='softmax'))"
   ]
  },
  {
   "cell_type": "code",
   "execution_count": 83,
   "metadata": {},
   "outputs": [],
   "source": [
    "model.compile(loss='sparse_categorical_crossentropy',optimizer='adam',metrics=['accuracy'])"
   ]
  },
  {
   "cell_type": "code",
   "execution_count": 84,
   "metadata": {},
   "outputs": [
    {
     "name": "stdout",
     "output_type": "stream",
     "text": [
      "Model: \"sequential_2\"\n",
      "_________________________________________________________________\n",
      "Layer (type)                 Output Shape              Param #   \n",
      "=================================================================\n",
      "embedding_1 (Embedding)      (None, 110, 32)           256160    \n",
      "_________________________________________________________________\n",
      "global_average_pooling1d_1 ( (None, 32)                0         \n",
      "_________________________________________________________________\n",
      "dense_2 (Dense)              (None, 24)                792       \n",
      "_________________________________________________________________\n",
      "dense_3 (Dense)              (None, 2)                 50        \n",
      "=================================================================\n",
      "Total params: 257,002\n",
      "Trainable params: 257,002\n",
      "Non-trainable params: 0\n",
      "_________________________________________________________________\n"
     ]
    }
   ],
   "source": [
    "model.summary()"
   ]
  },
  {
   "cell_type": "code",
   "execution_count": 91,
   "metadata": {},
   "outputs": [
    {
     "name": "stdout",
     "output_type": "stream",
     "text": [
      "Failed to import pydot. You must install pydot and graphviz for `pydotprint` to work.\n"
     ]
    }
   ],
   "source": [
    "tf.keras.utils.plot_model(model,show_shapes=True)"
   ]
  },
  {
   "cell_type": "code",
   "execution_count": 95,
   "metadata": {},
   "outputs": [
    {
     "name": "stdout",
     "output_type": "stream",
     "text": [
      "Train on 3565 samples, validate on 892 samples\n",
      "Epoch 1/30\n",
      "3565/3565 [==============================] - 5s 1ms/sample - loss: 0.5018 - acc: 0.8468 - val_loss: 0.3521 - val_acc: 0.8733\n",
      "Epoch 2/30\n",
      "3565/3565 [==============================] - 1s 233us/sample - loss: 0.3564 - acc: 0.8634 - val_loss: 0.3265 - val_acc: 0.8733\n",
      "Epoch 3/30\n",
      "3565/3565 [==============================] - 1s 204us/sample - loss: 0.3141 - acc: 0.8634 - val_loss: 0.2684 - val_acc: 0.8733\n",
      "Epoch 4/30\n",
      "3565/3565 [==============================] - 1s 159us/sample - loss: 0.2100 - acc: 0.9001 - val_loss: 0.1550 - val_acc: 0.9529\n",
      "Epoch 5/30\n",
      "3565/3565 [==============================] - 1s 167us/sample - loss: 0.1017 - acc: 0.9705 - val_loss: 0.0933 - val_acc: 0.9731\n",
      "Epoch 6/30\n",
      "3565/3565 [==============================] - 1s 168us/sample - loss: 0.0574 - acc: 0.9857 - val_loss: 0.0724 - val_acc: 0.9731\n",
      "Epoch 7/30\n",
      "3565/3565 [==============================] - 1s 161us/sample - loss: 0.0403 - acc: 0.9882 - val_loss: 0.0620 - val_acc: 0.9787\n",
      "Epoch 8/30\n",
      "3565/3565 [==============================] - 1s 160us/sample - loss: 0.0322 - acc: 0.9902 - val_loss: 0.0618 - val_acc: 0.9787\n",
      "Epoch 9/30\n",
      "3565/3565 [==============================] - 1s 158us/sample - loss: 0.0255 - acc: 0.9924 - val_loss: 0.0552 - val_acc: 0.9798\n",
      "Epoch 10/30\n",
      "3565/3565 [==============================] - 1s 160us/sample - loss: 0.0218 - acc: 0.9935 - val_loss: 0.0519 - val_acc: 0.9843\n",
      "Epoch 11/30\n",
      "3565/3565 [==============================] - 1s 160us/sample - loss: 0.0178 - acc: 0.9952 - val_loss: 0.0499 - val_acc: 0.9854\n",
      "Epoch 12/30\n",
      "3565/3565 [==============================] - 1s 161us/sample - loss: 0.0160 - acc: 0.9958 - val_loss: 0.0501 - val_acc: 0.9877\n",
      "Epoch 13/30\n",
      "3565/3565 [==============================] - 1s 158us/sample - loss: 0.0132 - acc: 0.9966 - val_loss: 0.0497 - val_acc: 0.9854\n",
      "Epoch 14/30\n",
      "3565/3565 [==============================] - 1s 160us/sample - loss: 0.0126 - acc: 0.9966 - val_loss: 0.0502 - val_acc: 0.9854\n",
      "Epoch 15/30\n",
      "3565/3565 [==============================] - 1s 169us/sample - loss: 0.0111 - acc: 0.9966 - val_loss: 0.0606 - val_acc: 0.9798\n",
      "Epoch 16/30\n",
      "3565/3565 [==============================] - 1s 163us/sample - loss: 0.0092 - acc: 0.9978 - val_loss: 0.0511 - val_acc: 0.9854\n",
      "Epoch 17/30\n",
      "3565/3565 [==============================] - 1s 156us/sample - loss: 0.0085 - acc: 0.9972 - val_loss: 0.0599 - val_acc: 0.9821\n",
      "Epoch 18/30\n",
      "3565/3565 [==============================] - 1s 166us/sample - loss: 0.0075 - acc: 0.9980 - val_loss: 0.0638 - val_acc: 0.9809\n",
      "Epoch 19/30\n",
      "3565/3565 [==============================] - 1s 160us/sample - loss: 0.0062 - acc: 0.9986 - val_loss: 0.0591 - val_acc: 0.9832\n",
      "Epoch 20/30\n",
      "3565/3565 [==============================] - 1s 160us/sample - loss: 0.0061 - acc: 0.9989 - val_loss: 0.0518 - val_acc: 0.9854\n",
      "Epoch 21/30\n",
      "3565/3565 [==============================] - 1s 158us/sample - loss: 0.0052 - acc: 0.9989 - val_loss: 0.0529 - val_acc: 0.9854\n",
      "Epoch 22/30\n",
      "3565/3565 [==============================] - 1s 162us/sample - loss: 0.0047 - acc: 0.9989 - val_loss: 0.0587 - val_acc: 0.9832\n",
      "Epoch 23/30\n",
      "3565/3565 [==============================] - 1s 157us/sample - loss: 0.0046 - acc: 0.9992 - val_loss: 0.0663 - val_acc: 0.9832\n",
      "Epoch 24/30\n",
      "3565/3565 [==============================] - 1s 163us/sample - loss: 0.0043 - acc: 0.9992 - val_loss: 0.0577 - val_acc: 0.9843\n",
      "Epoch 25/30\n",
      "3565/3565 [==============================] - 1s 163us/sample - loss: 0.0040 - acc: 0.9992 - val_loss: 0.0670 - val_acc: 0.9832\n",
      "Epoch 26/30\n",
      "3565/3565 [==============================] - 1s 159us/sample - loss: 0.0032 - acc: 0.9994 - val_loss: 0.0825 - val_acc: 0.9798\n",
      "Epoch 27/30\n",
      "3565/3565 [==============================] - 1s 157us/sample - loss: 0.0035 - acc: 0.9994 - val_loss: 0.0722 - val_acc: 0.9832\n",
      "Epoch 28/30\n",
      "3565/3565 [==============================] - 1s 164us/sample - loss: 0.0041 - acc: 0.9986 - val_loss: 0.0710 - val_acc: 0.9832\n",
      "Epoch 29/30\n",
      "3565/3565 [==============================] - 1s 159us/sample - loss: 0.0032 - acc: 0.9992 - val_loss: 0.0646 - val_acc: 0.9843\n",
      "Epoch 30/30\n",
      "3565/3565 [==============================] - 1s 155us/sample - loss: 0.0027 - acc: 0.9994 - val_loss: 0.0593 - val_acc: 0.9865\n"
     ]
    },
    {
     "data": {
      "text/plain": [
       "<tensorflow.python.keras.callbacks.History at 0x139723afda0>"
      ]
     },
     "execution_count": 95,
     "metadata": {},
     "output_type": "execute_result"
    }
   ],
   "source": [
    "model.fit(train_padded,train_labels,epochs=30,validation_split=0.2)"
   ]
  },
  {
   "cell_type": "code",
   "execution_count": 97,
   "metadata": {},
   "outputs": [
    {
     "data": {
      "image/png": "[encoded data removed]",
      "text/plain": [
       "<Figure size 432x288 with 1 Axes>"
      ]
     },
     "metadata": {
      "needs_background": "light"
     },
     "output_type": "display_data"
    }
   ],
   "source": [
    "import matplotlib.pyplot as plt\n",
    "plt.plot(model.history.history['acc'])\n",
    "plt.plot(model.history.history['val_acc'])\n",
    "plt.xlabel(\"epochs\")\n",
    "plt.ylabel(\"acc\")\n",
    "plt.legend([\"acc\",\"val_acc\"])\n",
    "plt.show()"
   ]
  },
  {
   "cell_type": "code",
   "execution_count": 98,
   "metadata": {},
   "outputs": [
    {
     "data": {
      "image/png": "[encoded data removed]",
      "text/plain": [
       "<Figure size 432x288 with 1 Axes>"
      ]
     },
     "metadata": {
      "needs_background": "light"
     },
     "output_type": "display_data"
    }
   ],
   "source": [
    "plt.plot(model.history.history['loss'])\n",
    "plt.plot(model.history.history['val_loss'])\n",
    "plt.xlabel(\"epochs\")\n",
    "plt.ylabel(\"loss\")\n",
    "plt.legend([\"loss\",\"val_loss\"])\n",
    "plt.show()"
   ]
  },
  {
   "cell_type": "code",
   "execution_count": 99,
   "metadata": {},
   "outputs": [],
   "source": [
    "y_pred=model.predict(test_padded)"
   ]
  },
  {
   "cell_type": "code",
   "execution_count": 104,
   "metadata": {},
   "outputs": [],
   "source": [
    "y=[]\n",
    "for row in y_pred:\n",
    "    value=np.argmax(row)\n",
    "    y.append(value)\n",
    "    "
   ]
  },
  {
   "cell_type": "code",
   "execution_count": 109,
   "metadata": {},
   "outputs": [],
   "source": [
    "from sklearn.metrics import confusion_matrix,accuracy_score"
   ]
  },
  {
   "cell_type": "code",
   "execution_count": 110,
   "metadata": {},
   "outputs": [
    {
     "data": {
      "text/plain": [
       "array([[967,   1],\n",
       "       [ 11, 136]], dtype=int64)"
      ]
     },
     "execution_count": 110,
     "metadata": {},
     "output_type": "execute_result"
    }
   ],
   "source": [
    "confusion_matrix(test_labels,y)"
   ]
  },
  {
   "cell_type": "code",
   "execution_count": 112,
   "metadata": {},
   "outputs": [
    {
     "data": {
      "text/plain": [
       "98.9237668161435"
      ]
     },
     "execution_count": 112,
     "metadata": {},
     "output_type": "execute_result"
    }
   ],
   "source": [
    "accuracy_score(test_labels,y)*100"
   ]
  },
  {
   "cell_type": "code",
   "execution_count": null,
   "metadata": {},
   "outputs": [],
   "source": []
  }
 ],
 "metadata": {
  "kernelspec": {
   "display_name": "Python 3",
   "language": "python",
   "name": "python3"
  },
  "language_info": {
   "codemirror_mode": {
    "name": "ipython",
    "version": 3
   },
   "file_extension": ".py",
   "mimetype": "text/x-python",
   "name": "python",
   "nbconvert_exporter": "python",
   "pygments_lexer": "ipython3",
   "version": "3.6.6"
  }
 },
 "nbformat": 4,
 "nbformat_minor": 2
}
